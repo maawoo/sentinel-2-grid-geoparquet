{
 "cells": [
  {
   "cell_type": "markdown",
   "id": "c5df7296-090b-4eb3-8ccd-99198ab466a4",
   "metadata": {
    "tags": []
   },
   "source": [
    "# 1. Convert Sentinel-2 Grid KML to Geoparquet\n",
    "\n",
    "The official Sentinel-2 grid is sourced from this ~100MB KML file:\n",
    "https://sentinel.esa.int/documents/247904/1955685/S2A_OPER_GIP_TILPAR_MPC__20151209T095117_V20150622T000000_21000101T000000_B00.kml \n",
    "\n",
    "The following notebook converts this file to the cloud-native file format [GeoParquet](https://github.com/opengeospatial/geoparquet) for easier visualization and batch processing of other datasets."
   ]
  },
  {
   "cell_type": "code",
   "id": "a802d46a-70dc-4331-afd9-e6eeebc74209",
   "metadata": {
    "ExecuteTime": {
     "end_time": "2024-04-15T13:13:33.705048Z",
     "start_time": "2024-04-15T13:13:33.115930Z"
    }
   },
   "source": [
    "import geopandas as gpd\n",
    "import dask_geopandas\n",
    "from shapely import wkt\n",
    "import utils\n",
    "import warnings\n",
    "warnings.simplefilter(action='ignore', category=FutureWarning)"
   ],
   "outputs": [],
   "execution_count": 1
  },
  {
   "metadata": {
    "ExecuteTime": {
     "end_time": "2024-04-15T13:13:44.686149Z",
     "start_time": "2024-04-15T13:13:33.705982Z"
    }
   },
   "cell_type": "code",
   "source": [
    "# Load KML file directly from URL\n",
    "gdf = gpd.read_file(utils.URL_ESA_S2_GRID_KML, \n",
    "                    engine=\"pyogrio\", force_2d=True, \n",
    "                    columns=[\"Name\", \"description\", \"geometry\"])\n",
    "gdf.rename(columns=dict(Name='tile'), inplace=True)\n",
    "gdf.head()"
   ],
   "id": "38475971a295b1d8",
   "outputs": [
    {
     "data": {
      "text/plain": [
       "    tile                                        description  \\\n",
       "0  01CCV  TILE PROPERTIES<br><table border=0 cellpadding...   \n",
       "1  01CDH  TILE PROPERTIES<br><table border=0 cellpadding...   \n",
       "2  01CDJ  TILE PROPERTIES<br><table border=0 cellpadding...   \n",
       "3  01CDK  TILE PROPERTIES<br><table border=0 cellpadding...   \n",
       "4  01CDL  TILE PROPERTIES<br><table border=0 cellpadding...   \n",
       "\n",
       "                                            geometry  \n",
       "0  GEOMETRYCOLLECTION (POLYGON ((180.00000 -73.05...  \n",
       "1  GEOMETRYCOLLECTION (POLYGON ((180.00000 -83.80...  \n",
       "2  GEOMETRYCOLLECTION (POLYGON ((180.00000 -82.91...  \n",
       "3  GEOMETRYCOLLECTION (POLYGON ((180.00000 -82.01...  \n",
       "4  GEOMETRYCOLLECTION (POLYGON ((180.00000 -81.12...  "
      ],
      "text/html": [
       "<div>\n",
       "<style scoped>\n",
       "    .dataframe tbody tr th:only-of-type {\n",
       "        vertical-align: middle;\n",
       "    }\n",
       "\n",
       "    .dataframe tbody tr th {\n",
       "        vertical-align: top;\n",
       "    }\n",
       "\n",
       "    .dataframe thead th {\n",
       "        text-align: right;\n",
       "    }\n",
       "</style>\n",
       "<table border=\"1\" class=\"dataframe\">\n",
       "  <thead>\n",
       "    <tr style=\"text-align: right;\">\n",
       "      <th></th>\n",
       "      <th>tile</th>\n",
       "      <th>description</th>\n",
       "      <th>geometry</th>\n",
       "    </tr>\n",
       "  </thead>\n",
       "  <tbody>\n",
       "    <tr>\n",
       "      <th>0</th>\n",
       "      <td>01CCV</td>\n",
       "      <td>TILE PROPERTIES&lt;br&gt;&lt;table border=0 cellpadding...</td>\n",
       "      <td>GEOMETRYCOLLECTION (POLYGON ((180.00000 -73.05...</td>\n",
       "    </tr>\n",
       "    <tr>\n",
       "      <th>1</th>\n",
       "      <td>01CDH</td>\n",
       "      <td>TILE PROPERTIES&lt;br&gt;&lt;table border=0 cellpadding...</td>\n",
       "      <td>GEOMETRYCOLLECTION (POLYGON ((180.00000 -83.80...</td>\n",
       "    </tr>\n",
       "    <tr>\n",
       "      <th>2</th>\n",
       "      <td>01CDJ</td>\n",
       "      <td>TILE PROPERTIES&lt;br&gt;&lt;table border=0 cellpadding...</td>\n",
       "      <td>GEOMETRYCOLLECTION (POLYGON ((180.00000 -82.91...</td>\n",
       "    </tr>\n",
       "    <tr>\n",
       "      <th>3</th>\n",
       "      <td>01CDK</td>\n",
       "      <td>TILE PROPERTIES&lt;br&gt;&lt;table border=0 cellpadding...</td>\n",
       "      <td>GEOMETRYCOLLECTION (POLYGON ((180.00000 -82.01...</td>\n",
       "    </tr>\n",
       "    <tr>\n",
       "      <th>4</th>\n",
       "      <td>01CDL</td>\n",
       "      <td>TILE PROPERTIES&lt;br&gt;&lt;table border=0 cellpadding...</td>\n",
       "      <td>GEOMETRYCOLLECTION (POLYGON ((180.00000 -81.12...</td>\n",
       "    </tr>\n",
       "  </tbody>\n",
       "</table>\n",
       "</div>"
      ]
     },
     "execution_count": 2,
     "metadata": {},
     "output_type": "execute_result"
    }
   ],
   "execution_count": 2
  },
  {
   "cell_type": "code",
   "id": "1e68911e-a5c7-42ad-a72a-44d5b299be15",
   "metadata": {
    "ExecuteTime": {
     "end_time": "2024-04-15T13:13:45.892242Z",
     "start_time": "2024-04-15T13:13:44.687033Z"
    }
   },
   "source": [
    "# GEOMETRYCOLLECTION contains polygon and centroid. If polygons cross antimeridian split into 2\n",
    "# Assume first geometry is main footprint polygon:\n",
    "gdf['geometry'] = gdf.geometry.apply(lambda x: x.geoms[0])\n",
    "\n",
    "# Extract UTM_WKT and EPSG from \"Description\" column\n",
    "gdf['epsg'] = gdf.apply(utils.get_epsg, axis=1)\n",
    "gdf['utm_wkt'] = gdf.apply(utils.get_utm_wkt, axis=1)\n",
    "\n",
    "# Drop description column \n",
    "gdf = gdf.drop(columns=['description'])\n",
    "gdf.head()"
   ],
   "execution_count": 3,
   "outputs": [
    {
     "data": {
      "text/plain": [
       "    tile                                           geometry   epsg  \\\n",
       "0  01CCV  POLYGON ((180.00000 -73.05974, 176.86462 -72.9...  32701   \n",
       "1  01CDH  POLYGON ((180.00000 -83.80855, 174.71288 -83.7...  32701   \n",
       "2  01CDJ  POLYGON ((180.00000 -82.91344, 175.74819 -82.8...  32701   \n",
       "3  01CDK  POLYGON ((180.00000 -82.01866, 176.55270 -81.9...  32701   \n",
       "4  01CDL  POLYGON ((180.00000 -81.12317, 177.19616 -81.1...  32701   \n",
       "\n",
       "                                             utm_wkt  \n",
       "0  POLYGON ((300000 2000020,300000 1890220,409800...  \n",
       "1  POLYGON ((399960 800020,399960 690220,509760 6...  \n",
       "2  POLYGON ((399960 900040,399960 790240,509760 7...  \n",
       "3  POLYGON ((399960 1000000,399960 890200,509760 ...  \n",
       "4  POLYGON ((399960 1100020,399960 990220,509760 ...  "
      ],
      "text/html": [
       "<div>\n",
       "<style scoped>\n",
       "    .dataframe tbody tr th:only-of-type {\n",
       "        vertical-align: middle;\n",
       "    }\n",
       "\n",
       "    .dataframe tbody tr th {\n",
       "        vertical-align: top;\n",
       "    }\n",
       "\n",
       "    .dataframe thead th {\n",
       "        text-align: right;\n",
       "    }\n",
       "</style>\n",
       "<table border=\"1\" class=\"dataframe\">\n",
       "  <thead>\n",
       "    <tr style=\"text-align: right;\">\n",
       "      <th></th>\n",
       "      <th>tile</th>\n",
       "      <th>geometry</th>\n",
       "      <th>epsg</th>\n",
       "      <th>utm_wkt</th>\n",
       "    </tr>\n",
       "  </thead>\n",
       "  <tbody>\n",
       "    <tr>\n",
       "      <th>0</th>\n",
       "      <td>01CCV</td>\n",
       "      <td>POLYGON ((180.00000 -73.05974, 176.86462 -72.9...</td>\n",
       "      <td>32701</td>\n",
       "      <td>POLYGON ((300000 2000020,300000 1890220,409800...</td>\n",
       "    </tr>\n",
       "    <tr>\n",
       "      <th>1</th>\n",
       "      <td>01CDH</td>\n",
       "      <td>POLYGON ((180.00000 -83.80855, 174.71288 -83.7...</td>\n",
       "      <td>32701</td>\n",
       "      <td>POLYGON ((399960 800020,399960 690220,509760 6...</td>\n",
       "    </tr>\n",
       "    <tr>\n",
       "      <th>2</th>\n",
       "      <td>01CDJ</td>\n",
       "      <td>POLYGON ((180.00000 -82.91344, 175.74819 -82.8...</td>\n",
       "      <td>32701</td>\n",
       "      <td>POLYGON ((399960 900040,399960 790240,509760 7...</td>\n",
       "    </tr>\n",
       "    <tr>\n",
       "      <th>3</th>\n",
       "      <td>01CDK</td>\n",
       "      <td>POLYGON ((180.00000 -82.01866, 176.55270 -81.9...</td>\n",
       "      <td>32701</td>\n",
       "      <td>POLYGON ((399960 1000000,399960 890200,509760 ...</td>\n",
       "    </tr>\n",
       "    <tr>\n",
       "      <th>4</th>\n",
       "      <td>01CDL</td>\n",
       "      <td>POLYGON ((180.00000 -81.12317, 177.19616 -81.1...</td>\n",
       "      <td>32701</td>\n",
       "      <td>POLYGON ((399960 1100020,399960 990220,509760 ...</td>\n",
       "    </tr>\n",
       "  </tbody>\n",
       "</table>\n",
       "</div>"
      ]
     },
     "execution_count": 3,
     "metadata": {},
     "output_type": "execute_result"
    }
   ]
  },
  {
   "metadata": {
    "ExecuteTime": {
     "end_time": "2024-04-15T13:13:46.310023Z",
     "start_time": "2024-04-15T13:13:45.893686Z"
    }
   },
   "cell_type": "code",
   "source": [
    "# Add simple UTM bounds (left, down, right, up)\n",
    "gdf['utm_bounds'] = gdf.utm_wkt.apply(lambda x: wkt.loads(x).bounds).astype(str)"
   ],
   "id": "26f3a11e1d5ed680",
   "outputs": [],
   "execution_count": 4
  },
  {
   "metadata": {
    "ExecuteTime": {
     "end_time": "2024-04-15T13:13:46.370712Z",
     "start_time": "2024-04-15T13:13:46.310911Z"
    }
   },
   "cell_type": "code",
   "source": [
    "print(f\"Number of tiles: {len(gdf)}\")\n",
    "gdf.to_parquet(\"sentinel-2-grid.parquet\")"
   ],
   "id": "b63ecd0312ed2f6",
   "outputs": [
    {
     "name": "stdout",
     "output_type": "stream",
     "text": [
      "Number of tiles: 56686\n"
     ]
    }
   ],
   "execution_count": 5
  },
  {
   "metadata": {},
   "cell_type": "markdown",
   "source": "## 1.1 Only keep tiles that intersect with land areas",
   "id": "e14b7a350b5a31de"
  },
  {
   "metadata": {
    "ExecuteTime": {
     "end_time": "2024-04-15T13:15:53.437150Z",
     "start_time": "2024-04-15T13:15:52.129641Z"
    }
   },
   "cell_type": "code",
   "source": [
    "# Load high resolution land mask\n",
    "land_highres = gpd.read_file(utils.URL_NE_VEC_10m_LAND_GEOJSON, engine=\"pyogrio\")\n",
    "land_highres.plot()"
   ],
   "id": "bba4855166b195c5",
   "outputs": [
    {
     "data": {
      "text/plain": [
       "<Axes: >"
      ]
     },
     "execution_count": 9,
     "metadata": {},
     "output_type": "execute_result"
    },
    {
     "data": {
      "text/plain": [
       "<Figure size 640x480 with 1 Axes>"
      ],
      "image/png": "[encoded data removed]"
     },
     "metadata": {},
     "output_type": "display_data"
    }
   ],
   "execution_count": 9
  },
  {
   "cell_type": "code",
   "id": "e0b9b262-7314-4c36-ab41-28b4484b9393",
   "metadata": {
    "ExecuteTime": {
     "end_time": "2024-04-15T13:18:26.124042Z",
     "start_time": "2024-04-15T13:15:53.438594Z"
    }
   },
   "source": [
    "%%time \n",
    "# Load as dask-geopandas dataframe and intersect with land mask\n",
    "ddf = dask_geopandas.from_geopandas(gdf, npartitions=4)\n",
    "ind_land = ddf.intersects(land_highres.unary_union).compute()\n",
    "gdf_land = gdf[ind_land].reset_index(drop=True)\n",
    "\n",
    "# Add simple UTM bounds (left, down, right, up)\n",
    "gdf_land['utm_bounds'] = gdf_land.utm_wkt.apply(lambda x: wkt.loads(x).bounds).astype(str)\n",
    "gdf_land.head()"
   ],
   "outputs": [
    {
     "name": "stdout",
     "output_type": "stream",
     "text": [
      "CPU times: user 7min 39s, sys: 3min 31s, total: 11min 10s\n",
      "Wall time: 2min 32s\n"
     ]
    },
    {
     "data": {
      "text/plain": [
       "    tile                                           geometry   epsg  \\\n",
       "0  01CEH  POLYGON ((-177.00144 -82.85238, -169.14642 -82...  32701   \n",
       "1  01CEJ  POLYGON ((-177.00128 -81.95638, -170.00719 -81...  32701   \n",
       "2  01FBE  POLYGON ((180.00000 -50.59941, 178.76332 -50.5...  32701   \n",
       "3  01FBF  POLYGON ((180.00000 -49.70001, 178.84184 -49.6...  32701   \n",
       "4  01GBH  POLYGON ((180.00000 -47.89995, 178.98771 -47.8...  32701   \n",
       "\n",
       "                                             utm_wkt  \\\n",
       "0  POLYGON ((499980 800020,499980 690220,609780 6...   \n",
       "1  POLYGON ((499980 900040,499980 790240,609780 7...   \n",
       "2  POLYGON ((199980 4500040,199980 4390240,309780...   \n",
       "3  POLYGON ((199980 4600000,199980 4490200,309780...   \n",
       "4  POLYGON ((199980 4800040,199980 4690240,309780...   \n",
       "\n",
       "                                   utm_bounds  \n",
       "0    (499980.0, 690220.0, 609780.0, 800020.0)  \n",
       "1    (499980.0, 790240.0, 609780.0, 900040.0)  \n",
       "2  (199980.0, 4390240.0, 309780.0, 4500040.0)  \n",
       "3  (199980.0, 4490200.0, 309780.0, 4600000.0)  \n",
       "4  (199980.0, 4690240.0, 309780.0, 4800040.0)  "
      ],
      "text/html": [
       "<div>\n",
       "<style scoped>\n",
       "    .dataframe tbody tr th:only-of-type {\n",
       "        vertical-align: middle;\n",
       "    }\n",
       "\n",
       "    .dataframe tbody tr th {\n",
       "        vertical-align: top;\n",
       "    }\n",
       "\n",
       "    .dataframe thead th {\n",
       "        text-align: right;\n",
       "    }\n",
       "</style>\n",
       "<table border=\"1\" class=\"dataframe\">\n",
       "  <thead>\n",
       "    <tr style=\"text-align: right;\">\n",
       "      <th></th>\n",
       "      <th>tile</th>\n",
       "      <th>geometry</th>\n",
       "      <th>epsg</th>\n",
       "      <th>utm_wkt</th>\n",
       "      <th>utm_bounds</th>\n",
       "    </tr>\n",
       "  </thead>\n",
       "  <tbody>\n",
       "    <tr>\n",
       "      <th>0</th>\n",
       "      <td>01CEH</td>\n",
       "      <td>POLYGON ((-177.00144 -82.85238, -169.14642 -82...</td>\n",
       "      <td>32701</td>\n",
       "      <td>POLYGON ((499980 800020,499980 690220,609780 6...</td>\n",
       "      <td>(499980.0, 690220.0, 609780.0, 800020.0)</td>\n",
       "    </tr>\n",
       "    <tr>\n",
       "      <th>1</th>\n",
       "      <td>01CEJ</td>\n",
       "      <td>POLYGON ((-177.00128 -81.95638, -170.00719 -81...</td>\n",
       "      <td>32701</td>\n",
       "      <td>POLYGON ((499980 900040,499980 790240,609780 7...</td>\n",
       "      <td>(499980.0, 790240.0, 609780.0, 900040.0)</td>\n",
       "    </tr>\n",
       "    <tr>\n",
       "      <th>2</th>\n",
       "      <td>01FBE</td>\n",
       "      <td>POLYGON ((180.00000 -50.59941, 178.76332 -50.5...</td>\n",
       "      <td>32701</td>\n",
       "      <td>POLYGON ((199980 4500040,199980 4390240,309780...</td>\n",
       "      <td>(199980.0, 4390240.0, 309780.0, 4500040.0)</td>\n",
       "    </tr>\n",
       "    <tr>\n",
       "      <th>3</th>\n",
       "      <td>01FBF</td>\n",
       "      <td>POLYGON ((180.00000 -49.70001, 178.84184 -49.6...</td>\n",
       "      <td>32701</td>\n",
       "      <td>POLYGON ((199980 4600000,199980 4490200,309780...</td>\n",
       "      <td>(199980.0, 4490200.0, 309780.0, 4600000.0)</td>\n",
       "    </tr>\n",
       "    <tr>\n",
       "      <th>4</th>\n",
       "      <td>01GBH</td>\n",
       "      <td>POLYGON ((180.00000 -47.89995, 178.98771 -47.8...</td>\n",
       "      <td>32701</td>\n",
       "      <td>POLYGON ((199980 4800040,199980 4690240,309780...</td>\n",
       "      <td>(199980.0, 4690240.0, 309780.0, 4800040.0)</td>\n",
       "    </tr>\n",
       "  </tbody>\n",
       "</table>\n",
       "</div>"
      ]
     },
     "execution_count": 10,
     "metadata": {},
     "output_type": "execute_result"
    }
   ],
   "execution_count": 10
  },
  {
   "cell_type": "code",
   "id": "99616112-405d-4181-a8cb-d0acf23a3a3f",
   "metadata": {
    "ExecuteTime": {
     "end_time": "2024-04-15T13:18:26.157521Z",
     "start_time": "2024-04-15T13:18:26.132226Z"
    }
   },
   "source": [
    "print(f\"Number of tiles: {len(gdf_land)}\")\n",
    "gdf_land.to_parquet(\"sentinel-2-grid_LAND.parquet\")"
   ],
   "execution_count": 12,
   "outputs": [
    {
     "name": "stdout",
     "output_type": "stream",
     "text": [
      "Number of tiles: 20430\n"
     ]
    }
   ]
  }
 ],
 "metadata": {
  "kernelspec": {
   "display_name": "Python 3 (ipykernel)",
   "language": "python",
   "name": "python3"
  },
  "language_info": {
   "codemirror_mode": {
    "name": "ipython",
    "version": 3
   },
   "file_extension": ".py",
   "mimetype": "text/x-python",
   "name": "python",
   "nbconvert_exporter": "python",
   "pygments_lexer": "ipython3",
   "version": "3.10.6"
  }
 },
 "nbformat": 4,
 "nbformat_minor": 5
}
